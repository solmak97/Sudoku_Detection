{
  "nbformat": 4,
  "nbformat_minor": 0,
  "metadata": {
    "colab": {
      "name": "yolov3_gpu.ipynb",
      "provenance": [],
      "collapsed_sections": [],
      "include_colab_link": true
    },
    "kernelspec": {
      "name": "python3",
      "display_name": "Python 3"
    },
    "language_info": {
      "name": "python"
    },
    "accelerator": "GPU"
  },
  "cells": [
    {
      "cell_type": "markdown",
      "metadata": {
        "id": "view-in-github",
        "colab_type": "text"
      },
      "source": [
        "<a href=\"https://colab.research.google.com/github/solmak97/Sudoku_Detection/blob/master/yolov3_gpu.ipynb\" target=\"_parent\"><img src=\"https://colab.research.google.com/assets/colab-badge.svg\" alt=\"Open In Colab\"/></a>"
      ]
    },
    {
      "cell_type": "markdown",
      "source": [
        "#YOLOv3 Customized Object Detection with Darknet Framework"
      ],
      "metadata": {
        "id": "ww0-tWbDoJ7m"
      }
    },
    {
      "cell_type": "markdown",
      "source": [
        "This notebook shows how to train YOLOv3 for custom object detection on google colab utilizing the free GPU resources.A very well documented tutorial on how to train YOLOv3 to detect custom objects can be founded on Github from  [AlexeyAB](https://github.com/AlexeyAB/darknet.git) and [Youtube](https://www.youtube.com/watch?v=hTCmL3S4Obw&t=976s).\n",
        "To know the hardware specification provided in GOOGLE COLAB environment run this command ([Source](https://colab.research.google.com/drive/151805XTDg--dgHb3-AXJCpnWaqRhop_2)):"
      ],
      "metadata": {
        "id": "1q1mUtHEBF-8"
      }
    },
    {
      "cell_type": "markdown",
      "source": [
        "## Step 1 : Dataset Preparation\n",
        "\n",
        "### Annotation\n",
        "To train a detector with YOLOv3 dataset to be included images associated with a label (a txt file). Labels file defines the object class and coordinates of object bounding box in an image.\n",
        "\n",
        "To create label files from images, [LableImg](https://github.com/tzutalin/labelImg) is used. Annotations are saved as .txt files in YOLO format, the format used by YOLOv3 .A txt file of YOLO format to be saved in the same folder as your image is with same name. A file named \"classes.txt\"automaticallly saved to that folder. \"classes.txt\" defines the list of class names that labels refer to.\n",
        "\n"
      ],
      "metadata": {
        "id": "niw8pYYDJXpD"
      }
    },
    {
      "cell_type": "markdown",
      "source": [
        "##Step 2: Enabling GPU within your notebook\n",
        "i) Click Edit at top left of your notebook\n",
        "\n",
        "ii) Click Notebook Settings within dropdown\n",
        "\n",
        "iii) Under 'Hardware Accelerator' select GPU and then hit Save\n",
        "\n",
        "To know the hardware specification provided in GOOGLE COLAB environment run this command:"
      ],
      "metadata": {
        "id": "ZmOOwVUGTEdu"
      }
    },
    {
      "cell_type": "code",
      "source": [
        "!nvidia-smi"
      ],
      "metadata": {
        "id": "5gQ8WHPNw_7U"
      },
      "execution_count": null,
      "outputs": []
    },
    {
      "cell_type": "markdown",
      "source": [
        "##Step 3: Upload files "
      ],
      "metadata": {
        "id": "iTfxAa8pe3p_"
      }
    },
    {
      "cell_type": "markdown",
      "source": [
        "Files to be uploaded on your google drive before. Then use following command:"
      ],
      "metadata": {
        "id": "lnfwCsENhBi6"
      }
    },
    {
      "cell_type": "code",
      "execution_count": null,
      "metadata": {
        "id": "BR_axr-DyRl0"
      },
      "outputs": [],
      "source": [
        "from google.colab import drive\n",
        "drive.mount('/content/drive',force_remount=True)"
      ]
    },
    {
      "cell_type": "markdown",
      "source": [
        "##Step 4: Split Dataset train/validation\n",
        "To avoid over-fitting and achieved an objective evaluation regarding our model, we need to split our dataset into training set and validation set. We will use a “train.txt” file and “test.txt” to define the directory path of our training and validation images.[See](https://github.com/jakkcoder/training_yolo_custom_object_detection_files)\n",
        "\n"
      ],
      "metadata": {
        "id": "yDMHhPwnmLgY"
      }
    },
    {
      "cell_type": "code",
      "source": [
        "! python custom_data/creating-files-data-and-name.py"
      ],
      "metadata": {
        "id": "XW7tFoIu0u6u"
      },
      "execution_count": null,
      "outputs": []
    },
    {
      "cell_type": "markdown",
      "source": [
        "##Step 5:Creating files labelled_data.data and classes.names\n",
        "In the next step, we need to create file “classes.names” in the directory, with \n",
        "object names as each new line. For instance, in our case we need to detect Sudoku only so the first line should be “sudoku”.Finally, create file “labelled_data.data”.[See](https://github.com/jakkcoder/training_yolo_custom_object_detection_files)"
      ],
      "metadata": {
        "id": "Carslnw4msXk"
      }
    },
    {
      "cell_type": "code",
      "source": [
        "! python custom_data/creating-train-and-test-txt-files.py"
      ],
      "metadata": {
        "id": "YNP9PzNK0ylD"
      },
      "execution_count": null,
      "outputs": []
    },
    {
      "cell_type": "markdown",
      "source": [
        "##Step 6: Cloning and Building Darknet\n",
        "\n",
        "The following cells will clone darknet from AlexeyAB's famous repository, adjust the Makefile to enable OPENCV , GPU and CUDNN for darknet and then build darknet."
      ],
      "metadata": {
        "id": "qmcoIIvvTW0Z"
      }
    },
    {
      "cell_type": "code",
      "source": [
        "# clone darknet repo\n",
        "!git clone https://github.com/AlexeyAB/darknet"
      ],
      "metadata": {
        "id": "_Ds5jjHiTV3e"
      },
      "execution_count": null,
      "outputs": []
    },
    {
      "cell_type": "code",
      "source": [
        "#change makefile to have GPU and OPENCV enabled\n",
        "%cd darknet\n",
        "!sed -i 's/OPENCV=0/OPENCV=1/' Makefile\n",
        "!sed -i 's/GPU=0/GPU=1/' Makefile\n",
        "!sed -i 's/CUDNN=0/CUDNN=1/' Makefile\n",
        "!sed -i 's/CUDNN_HALF=0/CUDNN_HALF=1/' Makefile"
      ],
      "metadata": {
        "id": "BJ8b2pZiTjAi"
      },
      "execution_count": null,
      "outputs": []
    },
    {
      "cell_type": "code",
      "source": [
        "# make darknet (builds darknet so that you can then use the darknet executable file to run or train object detectors)\n",
        "!make"
      ],
      "metadata": {
        "id": "YK_uDmToUQ44"
      },
      "execution_count": null,
      "outputs": []
    },
    {
      "cell_type": "markdown",
      "source": [
        "## Step 7 :Customized YOLOv3 Configuration\n",
        "Here the approach to train a customized object detection model is Transfer Learning. We use a pre-trained model from darknet and try to modfiy last layers of the model to customized it for our dataset.To see the internal layers of YOLOv3 you can use the [Nectron]( https://netron.app/) application.\n",
        "Turning to yolov3.cf file from [AlexeyAB](https://github.com/AlexeyAB/darknet/blob/master/cfg/yolov3.cfg), follwoing items to be modified for our custom training model.Create a copy of “yolov3.cfg” in the same folder and rename it.Edit the file as below instruction:\n",
        "\n",
        "Line 8 & 9: \n",
        "width = 416, height = 416 (Network Size)\n",
        "\n",
        "Line 20 \n",
        "max_batches = 6000 (Recommended by AlexeyAB )\n",
        "\n",
        "Line 22 \n",
        "steps = 4800 , 5400 (Recommended by AlexeyAB )\n",
        "\n",
        "Line 603, 689, 776: \n",
        "filters = 18    **(Calculate the number of filters in the last layers of YOLOv3 with this formula: No of filters = (classes + 5)*3 )**\n",
        "Line 610, 696, 783: \n",
        "classes = 1 (\"Sudoku\")\n",
        "\n",
        "Line 609 ,695,782:\n",
        "\n",
        "anchors = 127, 125, 163, 182,184,204,251,240,253,286,280, 288,327,365, 368, 309,372, 384\n",
        "\n",
        "*Size of anchor boxes to be calculate for your custom dataset :\n",
        "\n",
        "\n",
        "\n",
        "\n",
        "\n",
        "\n"
      ],
      "metadata": {
        "id": "vyM8GyeAPJv2"
      }
    },
    {
      "cell_type": "code",
      "source": [
        "!./darknet detector calc_anchors custom_data/labelled_data.data -num_of_clusters 9 -width 416 -height 416\n"
      ],
      "metadata": {
        "id": "c5na0YT53xoc"
      },
      "execution_count": null,
      "outputs": []
    },
    {
      "cell_type": "code",
      "metadata": {
        "id": "5ZgVQRop_vwR"
      },
      "source": [
        "!sed -i 's/batch=1/batch=64/' cfg/yolov3_custom_train.cfg\n",
        "!sed -i 's/subdivisions=1/subdivisions=16/' cfg/yolov3_custom_train.cfg\n",
        "!sed -i 's/max_batches = 500200/max_batches = 2000/' cfg/yolov3_custom_train.cfg\n",
        "!sed -i '610 s@classes=80@classes=1@' cfg/yolov3_custom_train.cfg\n",
        "!sed -i '696 s@classes=80@classes=1@' cfg/yolov3_custom_train.cfg\n",
        "!sed -i '783 s@classes=80@classes=1@' cfg/yolov3_custom_train.cfg\n",
        "!sed -i '603 s@filters=255@filters=18@' cfg/yolov3_custom_train.cfg\n",
        "!sed -i '689 s@filters=255@filters=18@' cfg/yolov3_custom_train.cfg\n",
        "!sed -i '776 s@filters=255@filters=18@' cfg/yolov3_custom_train.cfg\n",
        "!sed -i '609 s@anchors=10,13,  16,30,  33,23,  30,61,  62,45,  59,119,  116,90,  156,198,  373,326 @anchors=127, 125, 163, 182,184,204,251,240,253,286,280, 288,327,365, 368, 309,372, 384@' cfg/yolov3_custom_train.cfg\n",
        "!sed -i '695 s@anchors=10,13,  16,30,  33,23,  30,61,  62,45,  59,119,  116,90,  156,198,  373,326 @anchors=127, 125, 163, 182,184,204,251,240,253,286,280, 288,327,365, 368, 309,372, 384@' cfg/yolov3_custom_train.cfg\n",
        "!sed -i '782 s@anchors=10,13,  16,30,  33,23,  30,61,  62,45,  59,119,  116,90,  156,198,  373,326 @anchors=127, 125, 163, 182,184,204,251,240,253,286,280, 288,327,365, 368, 309,372, 384@' cfg/yolov3_custom_train.cfg"
      ],
      "execution_count": null,
      "outputs": []
    },
    {
      "cell_type": "markdown",
      "source": [
        "##Step 8: Download pre-trained YOLOv3 weights\n",
        "\n",
        "Download darknet pre-trained model [darknet53.conv.74](https://pjreddie.com/media/files/darknet53.conv.74)"
      ],
      "metadata": {
        "id": "hI0LGIqNUZVK"
      }
    },
    {
      "cell_type": "markdown",
      "source": [
        "##Step 9: Train and Test the model\n",
        "Then, change directory to the darknet folder and initilize the darknet command which is built in step 2."
      ],
      "metadata": {
        "id": "ynN2i_CnhUKJ"
      }
    },
    {
      "cell_type": "code",
      "source": [
        "%cd '/content/drive/MyDrive/yolo_custom_model_training/darknet'\n",
        "!chmod +x ./darknet "
      ],
      "metadata": {
        "id": "z7oxfLMHtdDr"
      },
      "execution_count": null,
      "outputs": []
    },
    {
      "cell_type": "markdown",
      "source": [
        "###Train"
      ],
      "metadata": {
        "id": "hclmCLUf4PkG"
      }
    },
    {
      "cell_type": "markdown",
      "source": [
        "The train command starts trainging from initial weights of darknet53, and it saves the weights in every 100 iteration until 1000th iteration. Then, it saves weights every 1000 iterations : "
      ],
      "metadata": {
        "id": "2jRhwyuQ6SM3"
      }
    },
    {
      "cell_type": "code",
      "source": [
        "!./darknet detector train custom_data/labelled_data.data  cfg/yolov3_custom_train.cfg backup/darknet53.conv.74 -dont_show\n"
      ],
      "metadata": {
        "id": "Az-fOr_B1QCm"
      },
      "execution_count": null,
      "outputs": []
    },
    {
      "cell_type": "markdown",
      "source": [
        "To underestand which model is better, mAP values for each model to be checked:"
      ],
      "metadata": {
        "id": "rjdIzvwZ61Qt"
      }
    },
    {
      "cell_type": "code",
      "source": [
        "!./darknet detector map custom_data/labelled_data.data  cfg/yolov3_custom_train.cfg backup/yolov3_custom_1000.weights\n"
      ],
      "metadata": {
        "id": "WkGoq3YF250r"
      },
      "execution_count": null,
      "outputs": []
    },
    {
      "cell_type": "markdown",
      "source": [
        "Evaluate Model:\n",
        "\n",
        "Loss= 0.02\n",
        "\n",
        "Mean Average Precision =97.44%\n",
        "\n",
        "Average IoU=82.7%\n"
      ],
      "metadata": {
        "id": "h8QtNbJf7oak"
      }
    },
    {
      "cell_type": "markdown",
      "source": [
        "###Test"
      ],
      "metadata": {
        "id": "BryK2wkw4TbJ"
      }
    },
    {
      "cell_type": "markdown",
      "source": [
        "For test the model, create a copy of customized train .cfg file (from step 7) and uncomment lines 2,3 and 4 . Set batch and subdividons to one. Comment lines 5 , 6 and 7. Then run the folowing command using latest model with the best mAP :"
      ],
      "metadata": {
        "id": "zwP-SC0y5Uie"
      }
    },
    {
      "cell_type": "code",
      "source": [
        "!./darknet detector test custom_data/labelled_data.data  cfg/yolov3_custom_test.cfg backup/yolov3_custom_last.weights data/img987.jpg -thresh 0.1\n"
      ],
      "metadata": {
        "id": "OvowqaGeKknD"
      },
      "execution_count": null,
      "outputs": []
    }
  ]
}